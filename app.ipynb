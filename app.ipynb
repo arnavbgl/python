{
 "cells": [
  {
   "cell_type": "code",
   "execution_count": 47,
   "id": "e1add1ba",
   "metadata": {},
   "outputs": [
    {
     "name": "stdout",
     "output_type": "stream",
     "text": [
      "3\n"
     ]
    }
   ],
   "source": [
    "print(1+2)\n"
   ]
  },
  {
   "cell_type": "code",
   "execution_count": null,
   "id": "c26f2bad",
   "metadata": {},
   "outputs": [],
   "source": [
    "num = int(input())\n",
    "if num>0:\n",
    "    print(\"no is positive\")\n",
    "    if num%2==0:\n",
    "        print(\"num is even\")\n",
    "    else:\n",
    "        print(\"num is odd\")\n",
    "else:\n",
    "    print(\"num is negative\")\n",
    "    "
   ]
  },
  {
   "cell_type": "code",
   "execution_count": null,
   "id": "a643a4ec",
   "metadata": {},
   "outputs": [
    {
     "name": "stdout",
     "output_type": "stream",
     "text": [
      "invalid input\n"
     ]
    }
   ],
   "source": [
    "num1 = int(input())\n",
    "num2 = int(input())\n",
    "operation = input(\"enter operator +,-,*,/,%\")\n",
    "\n",
    "if operation== \"+\":\n",
    "    print(num1+num2)\n",
    "elif operation== \"-\":\n",
    "    print(num1-num2)\n",
    "elif operation== \"*\":\n",
    "    print(num1*num2)\n",
    "elif operation== \"/\":\n",
    "    if num2==0:\n",
    "        print(\"num2 cannot be zero\")\n",
    "    else:\n",
    "        print(num1/num2)\n",
    "elif operation==\"%\":\n",
    "    print(num2%num1)\n",
    "else:\n",
    "    print(\"invalid input\")    \n",
    "    "
   ]
  },
  {
   "cell_type": "code",
   "execution_count": null,
   "id": "562438e9",
   "metadata": {},
   "outputs": [
    {
     "name": "stdout",
     "output_type": "stream",
     "text": [
      "15\n"
     ]
    }
   ],
   "source": [
    "## sum of n natural number\n",
    "\n",
    "num = int(input(\"enter the number\"))\n",
    "sum = 0\n",
    "for i in range(1,num+1):\n",
    "    sum = sum +i\n",
    "print(sum)"
   ]
  },
  {
   "cell_type": "code",
   "execution_count": null,
   "id": "0c6a0af5",
   "metadata": {},
   "outputs": [
    {
     "name": "stdout",
     "output_type": "stream",
     "text": [
      "6\n"
     ]
    }
   ],
   "source": [
    "## sum of n natural number\n",
    "\n",
    "num = int(input(\"enter the number\"))\n",
    "sum = 0\n",
    "var = 1\n",
    "while var<num+1:\n",
    "    sum = var+sum\n",
    "    var=var+1\n",
    "print(sum)"
   ]
  },
  {
   "cell_type": "code",
   "execution_count": null,
   "id": "da143848",
   "metadata": {},
   "outputs": [],
   "source": [
    "## prime number range including start and last number\n",
    "\n",
    "num1 = int(input())\n",
    "num2 = int(input())\n",
    "for i in range(num1, num2):\n",
    "    if(i>1):\n",
    "        for j in range(2,i):\n",
    "            if i%j==0:\n",
    "                break\n",
    "        else:\n",
    "            print(i)"
   ]
  },
  {
   "cell_type": "markdown",
   "id": "7ac594aa",
   "metadata": {},
   "source": [
    "####LIST\n",
    "List are ordered mutable collection of items\\n\n",
    "they can contains items of different datatypes\n",
    "\n",
    "\n",
    "\n"
   ]
  },
  {
   "cell_type": "code",
   "execution_count": 24,
   "id": "5239422f",
   "metadata": {},
   "outputs": [
    {
     "name": "stdout",
     "output_type": "stream",
     "text": [
      "<class 'list'>\n",
      "['harsh', 'baghel', 2200321540037, 'kc block', 'cseds', 'ABES']\n"
     ]
    }
   ],
   "source": [
    "######CREATING THE LIST   LISTNAME = []\n",
    "student =[\"harsh\",\"baghel\", 2200321540037, \"kc block\",\"cseds\" , \"ABES\"]\n",
    "print(type(student))\n",
    "print(student)"
   ]
  },
  {
   "cell_type": "code",
   "execution_count": 5,
   "id": "cdfcd02f",
   "metadata": {},
   "outputs": [
    {
     "name": "stdout",
     "output_type": "stream",
     "text": [
      "<class 'list'>\n",
      "2200321540037\n"
     ]
    }
   ],
   "source": [
    "######ACCESSING THE LIST   LISTNAME = [INDEX]\n",
    "student =[\"harsh\",\"baghel\", 2200321540037]\n",
    "print(type(student))\n",
    "print(student[2])"
   ]
  },
  {
   "cell_type": "code",
   "execution_count": 7,
   "id": "1205db95",
   "metadata": {},
   "outputs": [
    {
     "name": "stdout",
     "output_type": "stream",
     "text": [
      "['arnav', 'baghel', 2200321540037]\n"
     ]
    }
   ],
   "source": [
    "### MODIFYING THE LIST\n",
    "student[0]= \"arnav\"\n",
    "print(student)\n"
   ]
  },
  {
   "cell_type": "code",
   "execution_count": null,
   "id": "f4699e78",
   "metadata": {},
   "outputs": [
    {
     "name": "stdout",
     "output_type": "stream",
     "text": [
      "['arnav', 'baghel', 2200321540037, 'ABES', 'ABES']\n"
     ]
    }
   ],
   "source": [
    "##LIST METHOD\n",
    "# append add the element in the end\n",
    "student.append(\"ABES\")\n",
    "print(student)"
   ]
  },
  {
   "cell_type": "code",
   "execution_count": 21,
   "id": "9aba8bbf",
   "metadata": {},
   "outputs": [
    {
     "name": "stdout",
     "output_type": "stream",
     "text": [
      "['arnav', 'kc block', 'kc block', 'baghel', 2200321540037]\n"
     ]
    }
   ],
   "source": [
    "#insert the element at any particular index\n",
    "student.insert(2,\"kc block\")\n",
    "print(student)"
   ]
  },
  {
   "cell_type": "code",
   "execution_count": 22,
   "id": "e25ee6f2",
   "metadata": {},
   "outputs": [
    {
     "ename": "ValueError",
     "evalue": "list.remove(x): x not in list",
     "output_type": "error",
     "traceback": [
      "\u001b[31m---------------------------------------------------------------------------\u001b[39m",
      "\u001b[31mValueError\u001b[39m                                Traceback (most recent call last)",
      "\u001b[36mCell\u001b[39m\u001b[36m \u001b[39m\u001b[32mIn[22]\u001b[39m\u001b[32m, line 2\u001b[39m\n\u001b[32m      1\u001b[39m \u001b[38;5;66;03m#remove the element first occurance of an element\u001b[39;00m\n\u001b[32m----> \u001b[39m\u001b[32m2\u001b[39m \u001b[43mstudent\u001b[49m\u001b[43m.\u001b[49m\u001b[43mremove\u001b[49m\u001b[43m(\u001b[49m\u001b[33;43m\"\u001b[39;49m\u001b[33;43mABES\u001b[39;49m\u001b[33;43m\"\u001b[39;49m\u001b[43m)\u001b[49m\n\u001b[32m      3\u001b[39m \u001b[38;5;28mprint\u001b[39m(student)\n",
      "\u001b[31mValueError\u001b[39m: list.remove(x): x not in list"
     ]
    }
   ],
   "source": [
    "#remove the element first occurance of an element\n",
    "student.remove(\"ABES\")\n",
    "print(student)"
   ]
  },
  {
   "cell_type": "code",
   "execution_count": null,
   "id": "a0a91e00",
   "metadata": {},
   "outputs": [
    {
     "name": "stdout",
     "output_type": "stream",
     "text": [
      "ABES\n"
     ]
    }
   ],
   "source": [
    "#remove and return the last element\n",
    "popstudent=student.pop()\n",
    "print(popstudent)\n"
   ]
  },
  {
   "cell_type": "code",
   "execution_count": 31,
   "id": "9b8a5c37",
   "metadata": {},
   "outputs": [
    {
     "name": "stdout",
     "output_type": "stream",
     "text": [
      "2\n"
     ]
    }
   ],
   "source": [
    "# for getting the idex of any value\n",
    "index= student.index(2200321540037)\n",
    "print(index)"
   ]
  },
  {
   "cell_type": "code",
   "execution_count": 37,
   "id": "a00606e6",
   "metadata": {},
   "outputs": [
    {
     "name": "stdout",
     "output_type": "stream",
     "text": [
      "4\n",
      "['harsh', 'harsh', 'harsh', 'harsh', 'baghel', 2200321540037, 'kc block', 'cseds']\n"
     ]
    }
   ],
   "source": [
    "#add and count the element\n",
    "student.insert(1, \"harsh\")\n",
    "count=student.count(\"harsh\")\n",
    "print(count)\n",
    "print(student)"
   ]
  },
  {
   "cell_type": "code",
   "execution_count": 40,
   "id": "519a4c15",
   "metadata": {},
   "outputs": [
    {
     "name": "stdout",
     "output_type": "stream",
     "text": [
      "['baghel', 'cseds', 'harsh', 'harsh', 'harsh', 'harsh', 'kc block']\n",
      "['kc block', 'harsh', 'harsh', 'harsh', 'harsh', 'cseds', 'baghel']\n"
     ]
    }
   ],
   "source": [
    "#sort and reverse the List\n",
    "# student.remove(2200321540037)\n",
    "student.sort()\n",
    "print(student)\n",
    "student.reverse()\n",
    "print(student)"
   ]
  },
  {
   "cell_type": "code",
   "execution_count": 41,
   "id": "e4b74ffb",
   "metadata": {},
   "outputs": [
    {
     "data": {
      "text/plain": [
       "<function list.clear()>"
      ]
     },
     "execution_count": 41,
     "metadata": {},
     "output_type": "execute_result"
    }
   ],
   "source": [
    "student.clear\n"
   ]
  },
  {
   "cell_type": "markdown",
   "id": "fc67b4bc",
   "metadata": {},
   "source": [
    "SLICING THE LIST"
   ]
  },
  {
   "cell_type": "code",
   "execution_count": 42,
   "id": "6edbd1e7",
   "metadata": {},
   "outputs": [
    {
     "name": "stdout",
     "output_type": "stream",
     "text": [
      "[3, 4, 5]\n",
      "[1, 2, 3, 4, 5]\n",
      "[6, 7, 8, 9, 10]\n",
      "[1, 3, 5, 7, 9]\n",
      "[10, 9, 8, 7, 6, 5, 4, 3, 2, 1]\n"
     ]
    }
   ],
   "source": [
    "num = [1,2,3,4,5,6,7,8,9,10]\n",
    "print(num[2:5])\n",
    "print(num[:5])\n",
    "print(num[5:])\n",
    "print(num[::2])\n",
    "print(num[::-1])\n",
    "\n",
    "#3,4,5\n",
    "#1,2,3,4,5\n",
    "#6,7,8,9,10\n",
    "#1,3,5,7,9\n"
   ]
  },
  {
   "cell_type": "code",
   "execution_count": null,
   "id": "328c2fac",
   "metadata": {},
   "outputs": [
    {
     "ename": "TypeError",
     "evalue": "'list' object cannot be interpreted as an integer",
     "output_type": "error",
     "traceback": [
      "\u001b[31m---------------------------------------------------------------------------\u001b[39m",
      "\u001b[31mTypeError\u001b[39m                                 Traceback (most recent call last)",
      "\u001b[36mCell\u001b[39m\u001b[36m \u001b[39m\u001b[32mIn[44]\u001b[39m\u001b[32m, line 1\u001b[39m\n\u001b[32m----> \u001b[39m\u001b[32m1\u001b[39m \u001b[38;5;28;01mfor\u001b[39;00m i \u001b[38;5;129;01min\u001b[39;00m \u001b[38;5;28;43mrange\u001b[39;49m\u001b[43m(\u001b[49m\u001b[43mnum\u001b[49m\u001b[43m)\u001b[49m:\n\u001b[32m      2\u001b[39m     \u001b[38;5;28mprint\u001b[39m(i)\n",
      "\u001b[31mTypeError\u001b[39m: 'list' object cannot be interpreted as an integer"
     ]
    }
   ],
   "source": [
    "for i in num :\n",
    "    print(i)"
   ]
  },
  {
   "cell_type": "code",
   "execution_count": null,
   "id": "360f0106",
   "metadata": {},
   "outputs": [],
   "source": []
  },
  {
   "cell_type": "code",
   "execution_count": null,
   "id": "2dda5c29",
   "metadata": {},
   "outputs": [],
   "source": []
  },
  {
   "cell_type": "code",
   "execution_count": null,
   "id": "f3a0e89a",
   "metadata": {},
   "outputs": [],
   "source": []
  }
 ],
 "metadata": {
  "kernelspec": {
   "display_name": "venv",
   "language": "python",
   "name": "python3"
  },
  "language_info": {
   "codemirror_mode": {
    "name": "ipython",
    "version": 3
   },
   "file_extension": ".py",
   "mimetype": "text/x-python",
   "name": "python",
   "nbconvert_exporter": "python",
   "pygments_lexer": "ipython3",
   "version": "3.12.0"
  }
 },
 "nbformat": 4,
 "nbformat_minor": 5
}
