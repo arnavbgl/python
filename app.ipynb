{
 "cells": [
  {
   "cell_type": "code",
   "execution_count": 3,
   "id": "e1add1ba",
   "metadata": {},
   "outputs": [
    {
     "name": "stdout",
     "output_type": "stream",
     "text": [
      "3\n"
     ]
    }
   ],
   "source": [
    "print(1+2)\n"
   ]
  },
  {
   "cell_type": "code",
   "execution_count": 13,
   "id": "c26f2bad",
   "metadata": {},
   "outputs": [
    {
     "name": "stdout",
     "output_type": "stream",
     "text": [
      "no is positive\n",
      "num is even\n"
     ]
    }
   ],
   "source": [
    "num = int(input())\n",
    "if num>0:\n",
    "    print(\"no is positive\")\n",
    "    if num%2==0:\n",
    "        print(\"num is even\")\n",
    "    else:\n",
    "        print(\"num is odd\")\n",
    "else:\n",
    "    print(\"num is negative\")\n",
    "    "
   ]
  },
  {
   "cell_type": "code",
   "execution_count": 19,
   "id": "a643a4ec",
   "metadata": {},
   "outputs": [
    {
     "name": "stdout",
     "output_type": "stream",
     "text": [
      "invalid input\n"
     ]
    }
   ],
   "source": [
    "num1 = int(input())\n",
    "num2 = int(input())\n",
    "operation = input(\"enter operator +,-,*,/,%\")\n",
    "\n",
    "if operation== \"+\":\n",
    "    print(num1+num2)\n",
    "elif operation== \"-\":\n",
    "    print(num1-num2)\n",
    "elif operation== \"*\":\n",
    "    print(num1*num2)\n",
    "elif operation== \"/\":\n",
    "    if num2==0:\n",
    "        print(\"num2 cannot be zero\")\n",
    "    else:\n",
    "        print(num1/num2)\n",
    "elif operation==\"%\":\n",
    "    print(num2%num1)\n",
    "else:\n",
    "    print(\"invalid input\")    \n",
    "    "
   ]
  },
  {
   "cell_type": "code",
   "execution_count": 29,
   "id": "562438e9",
   "metadata": {},
   "outputs": [
    {
     "name": "stdout",
     "output_type": "stream",
     "text": [
      "15\n"
     ]
    }
   ],
   "source": [
    "## sum of n natural number\n",
    "\n",
    "num = int(input(\"enter the number\"))\n",
    "sum = 0\n",
    "for i in range(1,num+1):\n",
    "    sum = sum +i\n",
    "print(sum)"
   ]
  },
  {
   "cell_type": "code",
   "execution_count": 31,
   "id": "0c6a0af5",
   "metadata": {},
   "outputs": [
    {
     "name": "stdout",
     "output_type": "stream",
     "text": [
      "6\n"
     ]
    }
   ],
   "source": [
    "## sum of n natural number\n",
    "\n",
    "num = int(input(\"enter the number\"))\n",
    "sum = 0\n",
    "var = 1\n",
    "while var<num+1:\n",
    "    sum = var+sum\n",
    "    var=var+1\n",
    "print(sum)"
   ]
  },
  {
   "cell_type": "code",
   "execution_count": 41,
   "id": "da143848",
   "metadata": {},
   "outputs": [
    {
     "name": "stdout",
     "output_type": "stream",
     "text": [
      "2\n",
      "3\n",
      "5\n",
      "7\n",
      "11\n",
      "13\n"
     ]
    }
   ],
   "source": [
    "## prime number range including start and last number\n",
    "\n",
    "num1 = int(input())\n",
    "num2 = int(input())\n",
    "for i in range(num1, num2):\n",
    "    if(i>1):\n",
    "        for j in range(2,i):\n",
    "            if i%j==0:\n",
    "                break\n",
    "        else:\n",
    "            print(i)"
   ]
  }
 ],
 "metadata": {
  "kernelspec": {
   "display_name": "venv",
   "language": "python",
   "name": "python3"
  },
  "language_info": {
   "codemirror_mode": {
    "name": "ipython",
    "version": 3
   },
   "file_extension": ".py",
   "mimetype": "text/x-python",
   "name": "python",
   "nbconvert_exporter": "python",
   "pygments_lexer": "ipython3",
   "version": "3.12.0"
  }
 },
 "nbformat": 4,
 "nbformat_minor": 5
}
